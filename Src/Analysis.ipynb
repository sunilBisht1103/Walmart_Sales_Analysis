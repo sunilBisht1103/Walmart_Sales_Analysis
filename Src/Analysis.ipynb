{
 "cells": [
  {
   "cell_type": "code",
   "execution_count": 1,
   "id": "55887ce6",
   "metadata": {},
   "outputs": [],
   "source": [
    "#importing libraries/dependencies\n",
    "\n",
    "import pandas as pd\n",
    "\n",
    "#for mysql \n",
    "import pymysql\n",
    "from sqlalchemy import create_engine\n",
    "\n",
    "#Prediction model and plotting\n",
    "from statsmodels.tsa.arima.model import ARIMA\n",
    "import matplotlib.pyplot as plt\n"
   ]
  },
  {
   "cell_type": "code",
   "execution_count": 2,
   "id": "23b7cc5a",
   "metadata": {},
   "outputs": [],
   "source": [
    "#Reading csv and storing in dataframe df\n",
    "df = pd.read_csv('Walmart.csv', encoding_errors='ignore')"
   ]
  },
  {
   "cell_type": "code",
   "execution_count": 3,
   "id": "a6372e56",
   "metadata": {},
   "outputs": [
    {
     "data": {
      "text/html": [
       "<div>\n",
       "<style scoped>\n",
       "    .dataframe tbody tr th:only-of-type {\n",
       "        vertical-align: middle;\n",
       "    }\n",
       "\n",
       "    .dataframe tbody tr th {\n",
       "        vertical-align: top;\n",
       "    }\n",
       "\n",
       "    .dataframe thead th {\n",
       "        text-align: right;\n",
       "    }\n",
       "</style>\n",
       "<table border=\"1\" class=\"dataframe\">\n",
       "  <thead>\n",
       "    <tr style=\"text-align: right;\">\n",
       "      <th></th>\n",
       "      <th>invoice_id</th>\n",
       "      <th>quantity</th>\n",
       "      <th>rating</th>\n",
       "      <th>profit_margin</th>\n",
       "    </tr>\n",
       "  </thead>\n",
       "  <tbody>\n",
       "    <tr>\n",
       "      <th>count</th>\n",
       "      <td>10051.000000</td>\n",
       "      <td>10020.000000</td>\n",
       "      <td>10051.000000</td>\n",
       "      <td>10051.000000</td>\n",
       "    </tr>\n",
       "    <tr>\n",
       "      <th>mean</th>\n",
       "      <td>5025.741220</td>\n",
       "      <td>2.353493</td>\n",
       "      <td>5.825659</td>\n",
       "      <td>0.393791</td>\n",
       "    </tr>\n",
       "    <tr>\n",
       "      <th>std</th>\n",
       "      <td>2901.174372</td>\n",
       "      <td>1.602658</td>\n",
       "      <td>1.763991</td>\n",
       "      <td>0.090669</td>\n",
       "    </tr>\n",
       "    <tr>\n",
       "      <th>min</th>\n",
       "      <td>1.000000</td>\n",
       "      <td>1.000000</td>\n",
       "      <td>3.000000</td>\n",
       "      <td>0.180000</td>\n",
       "    </tr>\n",
       "    <tr>\n",
       "      <th>25%</th>\n",
       "      <td>2513.500000</td>\n",
       "      <td>1.000000</td>\n",
       "      <td>4.000000</td>\n",
       "      <td>0.330000</td>\n",
       "    </tr>\n",
       "    <tr>\n",
       "      <th>50%</th>\n",
       "      <td>5026.000000</td>\n",
       "      <td>2.000000</td>\n",
       "      <td>6.000000</td>\n",
       "      <td>0.330000</td>\n",
       "    </tr>\n",
       "    <tr>\n",
       "      <th>75%</th>\n",
       "      <td>7538.500000</td>\n",
       "      <td>3.000000</td>\n",
       "      <td>7.000000</td>\n",
       "      <td>0.480000</td>\n",
       "    </tr>\n",
       "    <tr>\n",
       "      <th>max</th>\n",
       "      <td>10000.000000</td>\n",
       "      <td>10.000000</td>\n",
       "      <td>10.000000</td>\n",
       "      <td>0.570000</td>\n",
       "    </tr>\n",
       "  </tbody>\n",
       "</table>\n",
       "</div>"
      ],
      "text/plain": [
       "         invoice_id      quantity        rating  profit_margin\n",
       "count  10051.000000  10020.000000  10051.000000   10051.000000\n",
       "mean    5025.741220      2.353493      5.825659       0.393791\n",
       "std     2901.174372      1.602658      1.763991       0.090669\n",
       "min        1.000000      1.000000      3.000000       0.180000\n",
       "25%     2513.500000      1.000000      4.000000       0.330000\n",
       "50%     5026.000000      2.000000      6.000000       0.330000\n",
       "75%     7538.500000      3.000000      7.000000       0.480000\n",
       "max    10000.000000     10.000000     10.000000       0.570000"
      ]
     },
     "execution_count": 3,
     "metadata": {},
     "output_type": "execute_result"
    }
   ],
   "source": [
    "#Checking data for nulls,duplicates,error values\n",
    "\n",
    "#describing data to get statistics of a DataFrame ie,\"Count\" field provides the number of non-null values.\n",
    "df.describe()"
   ]
  },
  {
   "cell_type": "markdown",
   "id": "ddd9971f",
   "metadata": {},
   "source": [
    "The count for \"Quantity\" shows 10020 which shows it has null values compared to other columns."
   ]
  },
  {
   "cell_type": "code",
   "execution_count": 4,
   "id": "50cfbf35",
   "metadata": {},
   "outputs": [
    {
     "data": {
      "text/plain": [
       "invoice_id         0\n",
       "Branch             0\n",
       "City               0\n",
       "category           0\n",
       "unit_price        31\n",
       "quantity          31\n",
       "date               0\n",
       "time               0\n",
       "payment_method     0\n",
       "rating             0\n",
       "profit_margin      0\n",
       "dtype: int64"
      ]
     },
     "execution_count": 4,
     "metadata": {},
     "output_type": "execute_result"
    }
   ],
   "source": [
    "#Checking count of null values\n",
    "df.isnull().sum()"
   ]
  },
  {
   "cell_type": "markdown",
   "id": "aca2bb68",
   "metadata": {},
   "source": [
    "Unit_Price and Quantity has 31 null values, so we will remove these values"
   ]
  },
  {
   "cell_type": "code",
   "execution_count": 5,
   "id": "51c1b5ce",
   "metadata": {},
   "outputs": [],
   "source": [
    "#droppping all rows with missing records/null values\n",
    "df.dropna(inplace=True)\n"
   ]
  },
  {
   "cell_type": "code",
   "execution_count": 6,
   "id": "38919e06",
   "metadata": {},
   "outputs": [
    {
     "data": {
      "text/plain": [
       "invoice_id        0\n",
       "Branch            0\n",
       "City              0\n",
       "category          0\n",
       "unit_price        0\n",
       "quantity          0\n",
       "date              0\n",
       "time              0\n",
       "payment_method    0\n",
       "rating            0\n",
       "profit_margin     0\n",
       "dtype: int64"
      ]
     },
     "execution_count": 6,
     "metadata": {},
     "output_type": "execute_result"
    }
   ],
   "source": [
    "# verifying the updated values\n",
    "df.isnull().sum()"
   ]
  },
  {
   "cell_type": "markdown",
   "id": "f945cae2",
   "metadata": {},
   "source": [
    "No null values now in data, we still can have duplicate values."
   ]
  },
  {
   "cell_type": "code",
   "execution_count": 7,
   "id": "40f75b3a",
   "metadata": {},
   "outputs": [
    {
     "data": {
      "text/plain": [
       "np.int64(51)"
      ]
     },
     "execution_count": 7,
     "metadata": {},
     "output_type": "execute_result"
    }
   ],
   "source": [
    "# duplicates row\n",
    "df.duplicated().sum()"
   ]
  },
  {
   "cell_type": "markdown",
   "id": "264f3a69",
   "metadata": {},
   "source": [
    "51 dulicate rows so we will remove these"
   ]
  },
  {
   "cell_type": "code",
   "execution_count": 8,
   "id": "207b8389",
   "metadata": {},
   "outputs": [
    {
     "data": {
      "text/plain": [
       "np.int64(0)"
      ]
     },
     "execution_count": 8,
     "metadata": {},
     "output_type": "execute_result"
    }
   ],
   "source": [
    "#Removing duplicate rows\n",
    "df.drop_duplicates(inplace=True)\n",
    "#verify updated rows\n",
    "df.duplicated().sum()"
   ]
  },
  {
   "cell_type": "markdown",
   "id": "b90f65b7",
   "metadata": {},
   "source": [
    "Data is cleansed for duplicate value and null values."
   ]
  },
  {
   "cell_type": "code",
   "execution_count": 9,
   "id": "739611b3",
   "metadata": {},
   "outputs": [
    {
     "data": {
      "text/plain": [
       "invoice_id          int64\n",
       "Branch             object\n",
       "City               object\n",
       "category           object\n",
       "unit_price         object\n",
       "quantity          float64\n",
       "date               object\n",
       "time               object\n",
       "payment_method     object\n",
       "rating            float64\n",
       "profit_margin     float64\n",
       "dtype: object"
      ]
     },
     "execution_count": 9,
     "metadata": {},
     "output_type": "execute_result"
    }
   ],
   "source": [
    "#datatypes of columns\n",
    "df.dtypes"
   ]
  },
  {
   "cell_type": "markdown",
   "id": "73ab00cf",
   "metadata": {},
   "source": [
    "The datatype for unit_price is object which should be float for numeric calculations."
   ]
  },
  {
   "cell_type": "code",
   "execution_count": 10,
   "id": "c758ab33",
   "metadata": {},
   "outputs": [],
   "source": [
    "#Coverting datatype of 'unit_price' column to float using astype function.\n",
    "#Note:The column contains the symbol \"$\" we have to replace it before converting it to float as float doesnt take a character value.\n",
    "df['unit_price']=df['unit_price'].str.replace('$','').astype(float)"
   ]
  },
  {
   "cell_type": "code",
   "execution_count": 11,
   "id": "deb7391c",
   "metadata": {},
   "outputs": [
    {
     "data": {
      "text/plain": [
       "invoice_id          int64\n",
       "Branch             object\n",
       "City               object\n",
       "category           object\n",
       "unit_price        float64\n",
       "quantity          float64\n",
       "date               object\n",
       "time               object\n",
       "payment_method     object\n",
       "rating            float64\n",
       "profit_margin     float64\n",
       "dtype: object"
      ]
     },
     "execution_count": 11,
     "metadata": {},
     "output_type": "execute_result"
    }
   ],
   "source": [
    "#verify updated datatype\n",
    "df.dtypes"
   ]
  },
  {
   "cell_type": "markdown",
   "id": "fc953afd",
   "metadata": {},
   "source": [
    "Now we will add a new column 'Total' to calculae teh total sale"
   ]
  },
  {
   "cell_type": "code",
   "execution_count": 12,
   "id": "da4d662d",
   "metadata": {},
   "outputs": [],
   "source": [
    "df['total'] = df['unit_price'] * df['quantity']"
   ]
  },
  {
   "cell_type": "code",
   "execution_count": 13,
   "id": "a79c1f86",
   "metadata": {},
   "outputs": [
    {
     "data": {
      "text/html": [
       "<div>\n",
       "<style scoped>\n",
       "    .dataframe tbody tr th:only-of-type {\n",
       "        vertical-align: middle;\n",
       "    }\n",
       "\n",
       "    .dataframe tbody tr th {\n",
       "        vertical-align: top;\n",
       "    }\n",
       "\n",
       "    .dataframe thead th {\n",
       "        text-align: right;\n",
       "    }\n",
       "</style>\n",
       "<table border=\"1\" class=\"dataframe\">\n",
       "  <thead>\n",
       "    <tr style=\"text-align: right;\">\n",
       "      <th></th>\n",
       "      <th>invoice_id</th>\n",
       "      <th>Branch</th>\n",
       "      <th>City</th>\n",
       "      <th>category</th>\n",
       "      <th>unit_price</th>\n",
       "      <th>quantity</th>\n",
       "      <th>date</th>\n",
       "      <th>time</th>\n",
       "      <th>payment_method</th>\n",
       "      <th>rating</th>\n",
       "      <th>profit_margin</th>\n",
       "      <th>total</th>\n",
       "    </tr>\n",
       "  </thead>\n",
       "  <tbody>\n",
       "    <tr>\n",
       "      <th>0</th>\n",
       "      <td>1</td>\n",
       "      <td>WALM003</td>\n",
       "      <td>San Antonio</td>\n",
       "      <td>Health and beauty</td>\n",
       "      <td>74.69</td>\n",
       "      <td>7.0</td>\n",
       "      <td>05/01/19</td>\n",
       "      <td>13:08:00</td>\n",
       "      <td>Ewallet</td>\n",
       "      <td>9.1</td>\n",
       "      <td>0.48</td>\n",
       "      <td>522.83</td>\n",
       "    </tr>\n",
       "    <tr>\n",
       "      <th>1</th>\n",
       "      <td>2</td>\n",
       "      <td>WALM048</td>\n",
       "      <td>Harlingen</td>\n",
       "      <td>Electronic accessories</td>\n",
       "      <td>15.28</td>\n",
       "      <td>5.0</td>\n",
       "      <td>08/03/19</td>\n",
       "      <td>10:29:00</td>\n",
       "      <td>Cash</td>\n",
       "      <td>9.6</td>\n",
       "      <td>0.48</td>\n",
       "      <td>76.40</td>\n",
       "    </tr>\n",
       "    <tr>\n",
       "      <th>2</th>\n",
       "      <td>3</td>\n",
       "      <td>WALM067</td>\n",
       "      <td>Haltom City</td>\n",
       "      <td>Home and lifestyle</td>\n",
       "      <td>46.33</td>\n",
       "      <td>7.0</td>\n",
       "      <td>03/03/19</td>\n",
       "      <td>13:23:00</td>\n",
       "      <td>Credit card</td>\n",
       "      <td>7.4</td>\n",
       "      <td>0.33</td>\n",
       "      <td>324.31</td>\n",
       "    </tr>\n",
       "    <tr>\n",
       "      <th>3</th>\n",
       "      <td>4</td>\n",
       "      <td>WALM064</td>\n",
       "      <td>Bedford</td>\n",
       "      <td>Health and beauty</td>\n",
       "      <td>58.22</td>\n",
       "      <td>8.0</td>\n",
       "      <td>27/01/19</td>\n",
       "      <td>20:33:00</td>\n",
       "      <td>Ewallet</td>\n",
       "      <td>8.4</td>\n",
       "      <td>0.33</td>\n",
       "      <td>465.76</td>\n",
       "    </tr>\n",
       "    <tr>\n",
       "      <th>4</th>\n",
       "      <td>5</td>\n",
       "      <td>WALM013</td>\n",
       "      <td>Irving</td>\n",
       "      <td>Sports and travel</td>\n",
       "      <td>86.31</td>\n",
       "      <td>7.0</td>\n",
       "      <td>08/02/19</td>\n",
       "      <td>10:37:00</td>\n",
       "      <td>Ewallet</td>\n",
       "      <td>5.3</td>\n",
       "      <td>0.48</td>\n",
       "      <td>604.17</td>\n",
       "    </tr>\n",
       "  </tbody>\n",
       "</table>\n",
       "</div>"
      ],
      "text/plain": [
       "   invoice_id   Branch         City                category  unit_price  \\\n",
       "0           1  WALM003  San Antonio       Health and beauty       74.69   \n",
       "1           2  WALM048    Harlingen  Electronic accessories       15.28   \n",
       "2           3  WALM067  Haltom City      Home and lifestyle       46.33   \n",
       "3           4  WALM064      Bedford       Health and beauty       58.22   \n",
       "4           5  WALM013       Irving       Sports and travel       86.31   \n",
       "\n",
       "   quantity      date      time payment_method  rating  profit_margin   total  \n",
       "0       7.0  05/01/19  13:08:00        Ewallet     9.1           0.48  522.83  \n",
       "1       5.0  08/03/19  10:29:00           Cash     9.6           0.48   76.40  \n",
       "2       7.0  03/03/19  13:23:00    Credit card     7.4           0.33  324.31  \n",
       "3       8.0  27/01/19  20:33:00        Ewallet     8.4           0.33  465.76  \n",
       "4       7.0  08/02/19  10:37:00        Ewallet     5.3           0.48  604.17  "
      ]
     },
     "execution_count": 13,
     "metadata": {},
     "output_type": "execute_result"
    }
   ],
   "source": [
    "#displaying first 5 rows of data\n",
    "df.head()"
   ]
  },
  {
   "cell_type": "markdown",
   "id": "712610b0",
   "metadata": {},
   "source": [
    "Now we will connect to Mysql database using create_engine() of sqlalchemy library"
   ]
  },
  {
   "cell_type": "code",
   "execution_count": 14,
   "id": "0df5d805",
   "metadata": {},
   "outputs": [
    {
     "name": "stderr",
     "output_type": "stream",
     "text": [
      "C:\\Users\\Sunil\\AppData\\Local\\Temp\\ipykernel_11300\\398052243.py:3: UserWarning: Could not infer format, so each element will be parsed individually, falling back to `dateutil`. To ensure parsing is consistent and as-expected, please specify a format.\n",
      "  df['date'] = pd.to_datetime(df['date'])\n"
     ]
    }
   ],
   "source": [
    "#coverting the data to a csv file with cleansed data\n",
    "\n",
    "df['date'] = pd.to_datetime(df['date'])\n",
    "df.to_csv('walmart_clean_data',index=True)"
   ]
  },
  {
   "cell_type": "code",
   "execution_count": 15,
   "id": "0896c384",
   "metadata": {},
   "outputs": [
    {
     "name": "stdout",
     "output_type": "stream",
     "text": [
      "connnection successfull\n"
     ]
    }
   ],
   "source": [
    "#Connecting to mysql server\n",
    "hostname='127.0.0.1'\n",
    "password='1234567890'\n",
    "username='root'\n",
    "port=3306\n",
    "database='walmart'\n",
    "engine=create_engine('mysql+pymysql://'+username+':'+password+'@'+hostname+':'+str(port)+'/'+database)\n",
    "try:\n",
    "    engine\n",
    "    print(\"connnection successfull\")\n",
    "\n",
    "except:\n",
    "    print(\"error\")\n"
   ]
  },
  {
   "cell_type": "markdown",
   "id": "0871a0c9",
   "metadata": {},
   "source": [
    "Now we will write records stored in a DataFrame to a SQL database."
   ]
  },
  {
   "cell_type": "code",
   "execution_count": 16,
   "id": "95d32d86",
   "metadata": {},
   "outputs": [
    {
     "data": {
      "text/plain": [
       "9969"
      ]
     },
     "execution_count": 16,
     "metadata": {},
     "output_type": "execute_result"
    }
   ],
   "source": [
    "df.to_sql(name='walmart',con=engine,if_exists='append',index=False)  "
   ]
  },
  {
   "cell_type": "markdown",
   "id": "0860a994",
   "metadata": {},
   "source": [
    "This will create a sql table named \"Walmart\" in the sql server which you can further anlayze using mysql workbench"
   ]
  },
  {
   "cell_type": "code",
   "execution_count": 17,
   "id": "f83dceed",
   "metadata": {},
   "outputs": [
    {
     "name": "stdout",
     "output_type": "stream",
     "text": [
      "      month  total_sales  total_profit\n",
      "0   2019-01     82440.54        104.01\n",
      "1   2019-02     60161.66         78.90\n",
      "2   2019-03     69285.00         90.39\n",
      "3   2019-04      7578.69         11.10\n",
      "4   2019-05     12189.23         16.98\n",
      "5   2019-06      9154.50         13.14\n",
      "6   2019-07     10953.06         15.27\n",
      "7   2019-08     12860.74         16.86\n",
      "8   2019-09     13111.70         13.20\n",
      "9   2019-10      9395.43         12.69\n",
      "10  2019-11      9160.35         11.01\n",
      "11  2019-12     11296.48         11.88\n",
      "12  2020-01     14414.00         59.61\n",
      "13  2020-02     10880.00         43.74\n",
      "14  2020-03     10496.00         41.91\n",
      "15  2020-04     10223.00         42.93\n",
      "16  2020-05     11107.00         44.40\n",
      "17  2020-06      9913.00         41.25\n",
      "18  2020-07     12025.00         48.21\n",
      "19  2020-08     17780.00         72.06\n",
      "20  2020-09     17631.00         66.90\n",
      "21  2020-10     17859.00         65.22\n",
      "22  2020-11     44876.00        173.70\n",
      "23  2020-12     42219.00        161.28\n",
      "24  2021-01     17160.00         65.34\n",
      "25  2021-02     12689.00         46.92\n",
      "26  2021-03     12455.00         52.53\n",
      "27  2021-04     10000.00         39.39\n",
      "28  2021-05     10936.00         47.97\n",
      "29  2021-06     12391.00         44.67\n",
      "30  2021-07     10949.00         42.33\n",
      "31  2021-08     16880.00         67.11\n",
      "32  2021-09     19396.00         77.52\n",
      "33  2021-10     18805.00         75.72\n",
      "34  2021-11     44988.00        175.62\n",
      "35  2021-12     46402.00        173.82\n",
      "36  2022-01     14424.00         59.19\n",
      "37  2022-02     13915.00         50.22\n",
      "38  2022-03     11842.00         43.05\n",
      "39  2022-04     10546.00         42.24\n",
      "40  2022-05     10736.00         43.80\n",
      "41  2022-06     12624.00         47.79\n",
      "42  2022-07      9535.00         40.59\n",
      "43  2022-08     17302.00         71.64\n",
      "44  2022-09     16470.00         70.14\n",
      "45  2022-10     16865.00         68.19\n",
      "46  2022-11     41230.00        169.80\n",
      "47  2022-12     41916.00        173.82\n",
      "48  2023-01     15590.00         57.84\n",
      "49  2023-02     11668.00         40.71\n",
      "50  2023-03     11580.00         44.94\n",
      "51  2023-04     11640.00         39.93\n",
      "52  2023-05     12369.00         46.62\n",
      "53  2023-06     14231.00         48.90\n",
      "54  2023-07     11678.00         45.84\n",
      "55  2023-08     18351.00         72.60\n",
      "56  2023-09     19661.00         77.67\n",
      "57  2023-10     18264.00         67.14\n",
      "58  2023-11     43718.00        167.73\n",
      "59  2023-12     43510.00        169.26\n"
     ]
    }
   ],
   "source": [
    "# Predictive analytics\n",
    "# Predictive Model (Monthly Sales Forecast — ARIMA Example)\n",
    "\n",
    "query = \"\"\"\n",
    "SELECT DATE_FORMAT(date, '%%Y-%%m') AS month, \n",
    "       SUM(total) AS total_sales, \n",
    "       SUM(profit_margin) AS total_profit\n",
    "FROM walmart\n",
    "GROUP BY month\n",
    "ORDER BY month;\n",
    "\"\"\"\n",
    "\n",
    "# Load Data\n",
    "monthly_sales = pd.read_sql(query, engine)\n",
    "\n",
    "# Export to CSV (Optional)\n",
    "monthly_sales.to_csv('monthly_sales1.csv', index=False)\n",
    "\n",
    "print(monthly_sales)"
   ]
  },
  {
   "cell_type": "code",
   "execution_count": 18,
   "id": "10c6b8ba",
   "metadata": {},
   "outputs": [
    {
     "name": "stdout",
     "output_type": "stream",
     "text": [
      "0     2019-01\n",
      "1     2019-02\n",
      "2     2019-03\n",
      "3     2019-04\n",
      "4     2019-05\n",
      "5     2019-06\n",
      "6     2019-07\n",
      "7     2019-08\n",
      "8     2019-09\n",
      "9     2019-10\n",
      "10    2019-11\n",
      "11    2019-12\n",
      "12    2020-01\n",
      "13    2020-02\n",
      "14    2020-03\n",
      "15    2020-04\n",
      "16    2020-05\n",
      "17    2020-06\n",
      "18    2020-07\n",
      "19    2020-08\n",
      "20    2020-09\n",
      "21    2020-10\n",
      "22    2020-11\n",
      "23    2020-12\n",
      "24    2021-01\n",
      "25    2021-02\n",
      "26    2021-03\n",
      "27    2021-04\n",
      "28    2021-05\n",
      "29    2021-06\n",
      "30    2021-07\n",
      "31    2021-08\n",
      "32    2021-09\n",
      "33    2021-10\n",
      "34    2021-11\n",
      "35    2021-12\n",
      "36    2022-01\n",
      "37    2022-02\n",
      "38    2022-03\n",
      "39    2022-04\n",
      "40    2022-05\n",
      "41    2022-06\n",
      "42    2022-07\n",
      "43    2022-08\n",
      "44    2022-09\n",
      "45    2022-10\n",
      "46    2022-11\n",
      "47    2022-12\n",
      "48    2023-01\n",
      "49    2023-02\n",
      "50    2023-03\n",
      "51    2023-04\n",
      "52    2023-05\n",
      "53    2023-06\n",
      "54    2023-07\n",
      "55    2023-08\n",
      "56    2023-09\n",
      "57    2023-10\n",
      "58    2023-11\n",
      "59    2023-12\n",
      "Name: month, dtype: object\n"
     ]
    }
   ],
   "source": [
    "print(monthly_sales['month'])\n",
    "monthly_sales['month'] = pd.to_datetime(monthly_sales['month'])\n",
    "monthly_sales.set_index('month', inplace=True)\n",
    "\n"
   ]
  },
  {
   "cell_type": "code",
   "execution_count": null,
   "id": "f44632ce",
   "metadata": {},
   "outputs": [
    {
     "name": "stderr",
     "output_type": "stream",
     "text": [
      "c:\\Users\\Sunil\\OneDrive\\Desktop\\Project\\my_env1\\Lib\\site-packages\\statsmodels\\tsa\\base\\tsa_model.py:473: ValueWarning: No frequency information was provided, so inferred frequency MS will be used.\n",
      "  self._init_dates(dates, freq)\n",
      "c:\\Users\\Sunil\\OneDrive\\Desktop\\Project\\my_env1\\Lib\\site-packages\\statsmodels\\tsa\\base\\tsa_model.py:473: ValueWarning: No frequency information was provided, so inferred frequency MS will be used.\n",
      "  self._init_dates(dates, freq)\n",
      "c:\\Users\\Sunil\\OneDrive\\Desktop\\Project\\my_env1\\Lib\\site-packages\\statsmodels\\tsa\\base\\tsa_model.py:473: ValueWarning: No frequency information was provided, so inferred frequency MS will be used.\n",
      "  self._init_dates(dates, freq)\n",
      "c:\\Users\\Sunil\\OneDrive\\Desktop\\Project\\my_env1\\Lib\\site-packages\\statsmodels\\tsa\\statespace\\sarimax.py:966: UserWarning: Non-stationary starting autoregressive parameters found. Using zeros as starting parameters.\n",
      "  warn('Non-stationary starting autoregressive parameters'\n",
      "c:\\Users\\Sunil\\OneDrive\\Desktop\\Project\\my_env1\\Lib\\site-packages\\statsmodels\\tsa\\statespace\\sarimax.py:978: UserWarning: Non-invertible starting MA parameters found. Using zeros as starting parameters.\n",
      "  warn('Non-invertible starting MA parameters found.'\n"
     ]
    },
    {
     "name": "stdout",
     "output_type": "stream",
     "text": [
      "2024-01-01    33904.043607\n",
      "2024-02-01    28212.470899\n",
      "2024-03-01    24840.188268\n",
      "2024-04-01    22842.095522\n",
      "2024-05-01    21658.216513\n",
      "2024-06-01    20956.762833\n",
      "2024-07-01    20541.148348\n",
      "2024-08-01    20294.894881\n",
      "2024-09-01    20148.988586\n",
      "2024-10-01    20062.538445\n",
      "2024-11-01    20011.316344\n",
      "2024-12-01    19980.967017\n",
      "Freq: MS, Name: predicted_mean, dtype: float64\n"
     ]
    }
   ],
   "source": [
    "#creating ARIMA model to predict sales forecast for a year\n",
    "\n",
    "model = ARIMA(monthly_sales['total_sales'], order=(1, 1, 1))\n",
    "model_fit = model.fit()\n",
    "forecast = model_fit.forecast(steps=12)\n",
    "print(forecast)\n"
   ]
  },
  {
   "cell_type": "code",
   "execution_count": 20,
   "id": "5b11c747",
   "metadata": {},
   "outputs": [
    {
     "name": "stderr",
     "output_type": "stream",
     "text": [
      "C:\\Users\\Sunil\\AppData\\Local\\Temp\\ipykernel_11300\\3294685065.py:4: FutureWarning: 'M' is deprecated and will be removed in a future version, please use 'ME' instead.\n",
      "  plt.plot(pd.date_range(monthly_sales.index[-1] + pd.DateOffset(months=1), periods=12, freq='M'), forecast, label='Forecast', color='red',linestyle='--')\n"
     ]
    },
    {
     "data": {
      "image/png": "[encoded data removed]",
      "text/plain": [
       "<Figure size 640x480 with 1 Axes>"
      ]
     },
     "metadata": {},
     "output_type": "display_data"
    }
   ],
   "source": [
    "#plot the forecast on chart\n",
    "\n",
    "plt.plot(monthly_sales.index, monthly_sales['total_sales'], label='Historical')\n",
    "plt.plot(pd.date_range(monthly_sales.index[-1] + pd.DateOffset(months=1), periods=12, freq='M'), forecast, label='Forecast', color='red',linestyle='--')\n",
    "plt.title('Sales Forecast')\n",
    "plt.legend()\n",
    "plt.show()"
   ]
  },
  {
   "cell_type": "code",
   "execution_count": 21,
   "id": "2f926caf",
   "metadata": {},
   "outputs": [
    {
     "name": "stdout",
     "output_type": "stream",
     "text": [
      "      invoice_id  total_spent  avg_rating  churn_risk\n",
      "10            11        57.92         4.5           1\n",
      "19            20        80.60         4.4           1\n",
      "22            23        66.40         4.4           1\n",
      "69            70        18.33         4.3           1\n",
      "97            98        74.70         4.1           1\n",
      "...          ...          ...         ...         ...\n",
      "9943        9975        72.00         4.0           1\n",
      "9947        9979        52.00         3.0           1\n",
      "9956        9988        46.00         4.0           1\n",
      "9957        9989        83.00         3.0           1\n",
      "9963        9995        62.00         3.0           1\n",
      "\n",
      "[1532 rows x 4 columns]\n"
     ]
    }
   ],
   "source": [
    "query = \"\"\"\n",
    "SELECT invoice_id, SUM(total) AS total_spent, AVG(rating) AS avg_rating\n",
    "FROM walmart\n",
    "GROUP BY invoice_id;\n",
    "\"\"\"\n",
    "customers = pd.read_sql(query, engine)\n",
    "\n",
    "# Flag customers with low ratings and low spending\n",
    "customers['churn_risk'] = ((customers['avg_rating'] < 5) & (customers['total_spent'] < 100)).astype(int)\n",
    "print(customers[customers['churn_risk'] == 1])\n",
    "\n"
   ]
  }
 ],
 "metadata": {
  "kernelspec": {
   "display_name": "my_env1",
   "language": "python",
   "name": "python3"
  },
  "language_info": {
   "codemirror_mode": {
    "name": "ipython",
    "version": 3
   },
   "file_extension": ".py",
   "mimetype": "text/x-python",
   "name": "python",
   "nbconvert_exporter": "python",
   "pygments_lexer": "ipython3",
   "version": "3.13.5"
  }
 },
 "nbformat": 4,
 "nbformat_minor": 5
}
